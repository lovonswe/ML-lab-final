{
  "nbformat": 4,
  "nbformat_minor": 0,
  "metadata": {
    "colab": {
      "provenance": []
    },
    "kernelspec": {
      "name": "python3",
      "display_name": "Python 3"
    },
    "language_info": {
      "name": "python"
    }
  },
  "cells": [
    {
      "cell_type": "code",
      "execution_count": 1,
      "metadata": {
        "id": "adGzohXxIUBk"
      },
      "outputs": [],
      "source": [
        "import pandas as pd\n",
        "import numpy as np\n",
        "from sklearn.model_selection import train_test_split\n",
        "from sklearn.preprocessing import StandardScaler, LabelEncoder\n",
        "from sklearn.compose import ColumnTransformer\n",
        "from sklearn.pipeline import Pipeline\n",
        "from sklearn.linear_model import LogisticRegression\n",
        "from sklearn.metrics import accuracy_score, classification_report, confusion_matrix"
      ]
    },
    {
      "cell_type": "code",
      "source": [
        "from google.colab import drive\n",
        "drive.mount('/content/drive')\n"
      ],
      "metadata": {
        "colab": {
          "base_uri": "https://localhost:8080/"
        },
        "id": "kwQn64vNnV7H",
        "outputId": "2b347647-c5a0-4ec8-c4d0-6ce3b4a270a1"
      },
      "execution_count": 5,
      "outputs": [
        {
          "output_type": "stream",
          "name": "stdout",
          "text": [
            "Drive already mounted at /content/drive; to attempt to forcibly remount, call drive.mount(\"/content/drive\", force_remount=True).\n"
          ]
        }
      ]
    },
    {
      "cell_type": "code",
      "source": [
        "url = \"/content/drive/MyDrive/Dataset/bank-data/bank-data/bank-full.csv\"\n",
        "bank_data = pd.read_csv(url, delimiter=';')\n"
      ],
      "metadata": {
        "id": "eySTvw4mnfGG"
      },
      "execution_count": 6,
      "outputs": []
    },
    {
      "cell_type": "code",
      "source": [
        "# Display basic information about the dataset\n",
        "print(bank_data.info())"
      ],
      "metadata": {
        "colab": {
          "base_uri": "https://localhost:8080/"
        },
        "id": "4hVvAY5qnfN-",
        "outputId": "94f91714-a8cc-4e63-e383-8dabdbe4c43a"
      },
      "execution_count": 18,
      "outputs": [
        {
          "output_type": "stream",
          "name": "stdout",
          "text": [
            "<class 'pandas.core.frame.DataFrame'>\n",
            "RangeIndex: 45211 entries, 0 to 45210\n",
            "Data columns (total 43 columns):\n",
            " #   Column               Non-Null Count  Dtype \n",
            "---  ------               --------------  ----- \n",
            " 0   age                  45211 non-null  int64 \n",
            " 1   balance              45211 non-null  int64 \n",
            " 2   day                  45211 non-null  int64 \n",
            " 3   duration             45211 non-null  int64 \n",
            " 4   campaign             45211 non-null  int64 \n",
            " 5   pdays                45211 non-null  int64 \n",
            " 6   previous             45211 non-null  int64 \n",
            " 7   y                    45211 non-null  object\n",
            " 8   job_blue-collar      45211 non-null  uint8 \n",
            " 9   job_entrepreneur     45211 non-null  uint8 \n",
            " 10  job_housemaid        45211 non-null  uint8 \n",
            " 11  job_management       45211 non-null  uint8 \n",
            " 12  job_retired          45211 non-null  uint8 \n",
            " 13  job_self-employed    45211 non-null  uint8 \n",
            " 14  job_services         45211 non-null  uint8 \n",
            " 15  job_student          45211 non-null  uint8 \n",
            " 16  job_technician       45211 non-null  uint8 \n",
            " 17  job_unemployed       45211 non-null  uint8 \n",
            " 18  job_unknown          45211 non-null  uint8 \n",
            " 19  marital_married      45211 non-null  uint8 \n",
            " 20  marital_single       45211 non-null  uint8 \n",
            " 21  education_secondary  45211 non-null  uint8 \n",
            " 22  education_tertiary   45211 non-null  uint8 \n",
            " 23  education_unknown    45211 non-null  uint8 \n",
            " 24  default_yes          45211 non-null  uint8 \n",
            " 25  housing_yes          45211 non-null  uint8 \n",
            " 26  loan_yes             45211 non-null  uint8 \n",
            " 27  contact_telephone    45211 non-null  uint8 \n",
            " 28  contact_unknown      45211 non-null  uint8 \n",
            " 29  month_aug            45211 non-null  uint8 \n",
            " 30  month_dec            45211 non-null  uint8 \n",
            " 31  month_feb            45211 non-null  uint8 \n",
            " 32  month_jan            45211 non-null  uint8 \n",
            " 33  month_jul            45211 non-null  uint8 \n",
            " 34  month_jun            45211 non-null  uint8 \n",
            " 35  month_mar            45211 non-null  uint8 \n",
            " 36  month_may            45211 non-null  uint8 \n",
            " 37  month_nov            45211 non-null  uint8 \n",
            " 38  month_oct            45211 non-null  uint8 \n",
            " 39  month_sep            45211 non-null  uint8 \n",
            " 40  poutcome_other       45211 non-null  uint8 \n",
            " 41  poutcome_success     45211 non-null  uint8 \n",
            " 42  poutcome_unknown     45211 non-null  uint8 \n",
            "dtypes: int64(7), object(1), uint8(35)\n",
            "memory usage: 4.3+ MB\n",
            "None\n"
          ]
        }
      ]
    },
    {
      "cell_type": "code",
      "source": [
        "# Display summary statistics\n",
        "print(bank_data.describe())"
      ],
      "metadata": {
        "colab": {
          "base_uri": "https://localhost:8080/"
        },
        "id": "F52zxat3phxF",
        "outputId": "257b6072-9bad-466f-d08b-1b12afa58c28"
      },
      "execution_count": 16,
      "outputs": [
        {
          "output_type": "stream",
          "name": "stdout",
          "text": [
            "                age        balance           day      duration      campaign  \\\n",
            "count  45211.000000   45211.000000  45211.000000  45211.000000  45211.000000   \n",
            "mean      40.936210    1362.272058     15.806419    258.163080      2.763841   \n",
            "std       10.618762    3044.765829      8.322476    257.527812      3.098021   \n",
            "min       18.000000   -8019.000000      1.000000      0.000000      1.000000   \n",
            "25%       33.000000      72.000000      8.000000    103.000000      1.000000   \n",
            "50%       39.000000     448.000000     16.000000    180.000000      2.000000   \n",
            "75%       48.000000    1428.000000     21.000000    319.000000      3.000000   \n",
            "max       95.000000  102127.000000     31.000000   4918.000000     63.000000   \n",
            "\n",
            "              pdays      previous  job_blue-collar  job_entrepreneur  \\\n",
            "count  45211.000000  45211.000000     45211.000000      45211.000000   \n",
            "mean      40.197828      0.580323         0.215257          0.032890   \n",
            "std      100.128746      2.303441         0.411005          0.178351   \n",
            "min       -1.000000      0.000000         0.000000          0.000000   \n",
            "25%       -1.000000      0.000000         0.000000          0.000000   \n",
            "50%       -1.000000      0.000000         0.000000          0.000000   \n",
            "75%       -1.000000      0.000000         0.000000          0.000000   \n",
            "max      871.000000    275.000000         1.000000          1.000000   \n",
            "\n",
            "       job_housemaid  ...     month_jul     month_jun     month_mar  \\\n",
            "count   45211.000000  ...  45211.000000  45211.000000  45211.000000   \n",
            "mean        0.027427  ...      0.152507      0.118135      0.010551   \n",
            "std         0.163326  ...      0.359516      0.322771      0.102174   \n",
            "min         0.000000  ...      0.000000      0.000000      0.000000   \n",
            "25%         0.000000  ...      0.000000      0.000000      0.000000   \n",
            "50%         0.000000  ...      0.000000      0.000000      0.000000   \n",
            "75%         0.000000  ...      0.000000      0.000000      0.000000   \n",
            "max         1.000000  ...      1.000000      1.000000      1.000000   \n",
            "\n",
            "          month_may     month_nov     month_oct     month_sep  poutcome_other  \\\n",
            "count  45211.000000  45211.000000  45211.000000  45211.000000    45211.000000   \n",
            "mean       0.304483      0.087810      0.016323      0.012807        0.040698   \n",
            "std        0.460193      0.283022      0.126718      0.112441        0.197592   \n",
            "min        0.000000      0.000000      0.000000      0.000000        0.000000   \n",
            "25%        0.000000      0.000000      0.000000      0.000000        0.000000   \n",
            "50%        0.000000      0.000000      0.000000      0.000000        0.000000   \n",
            "75%        1.000000      0.000000      0.000000      0.000000        0.000000   \n",
            "max        1.000000      1.000000      1.000000      1.000000        1.000000   \n",
            "\n",
            "       poutcome_success  poutcome_unknown  \n",
            "count      45211.000000      45211.000000  \n",
            "mean           0.033421          0.817478  \n",
            "std            0.179735          0.386278  \n",
            "min            0.000000          0.000000  \n",
            "25%            0.000000          1.000000  \n",
            "50%            0.000000          1.000000  \n",
            "75%            0.000000          1.000000  \n",
            "max            1.000000          1.000000  \n",
            "\n",
            "[8 rows x 42 columns]\n"
          ]
        }
      ]
    },
    {
      "cell_type": "code",
      "source": [
        "# Display the first few rows of the dataset\n",
        "print(bank_data.head())"
      ],
      "metadata": {
        "colab": {
          "base_uri": "https://localhost:8080/"
        },
        "id": "8Q4o2EexplvU",
        "outputId": "bf52269e-f7d3-4848-d339-589583b8a60f"
      },
      "execution_count": 17,
      "outputs": [
        {
          "output_type": "stream",
          "name": "stdout",
          "text": [
            "   age  balance  day  duration  campaign  pdays  previous   y  \\\n",
            "0   58     2143    5       261         1     -1         0  no   \n",
            "1   44       29    5       151         1     -1         0  no   \n",
            "2   33        2    5        76         1     -1         0  no   \n",
            "3   47     1506    5        92         1     -1         0  no   \n",
            "4   33        1    5       198         1     -1         0  no   \n",
            "\n",
            "   job_blue-collar  job_entrepreneur  ...  month_jul  month_jun  month_mar  \\\n",
            "0                0                 0  ...          0          0          0   \n",
            "1                0                 0  ...          0          0          0   \n",
            "2                0                 1  ...          0          0          0   \n",
            "3                1                 0  ...          0          0          0   \n",
            "4                0                 0  ...          0          0          0   \n",
            "\n",
            "   month_may  month_nov  month_oct  month_sep  poutcome_other  \\\n",
            "0          1          0          0          0               0   \n",
            "1          1          0          0          0               0   \n",
            "2          1          0          0          0               0   \n",
            "3          1          0          0          0               0   \n",
            "4          1          0          0          0               0   \n",
            "\n",
            "   poutcome_success  poutcome_unknown  \n",
            "0                 0                 1  \n",
            "1                 0                 1  \n",
            "2                 0                 1  \n",
            "3                 0                 1  \n",
            "4                 0                 1  \n",
            "\n",
            "[5 rows x 43 columns]\n"
          ]
        }
      ]
    },
    {
      "cell_type": "code",
      "source": [
        "# Check for missing values\n",
        "print(\"Missing Values:\")\n",
        "print(bank_data.isnull().sum())\n",
        "\n",
        "# Encode categorical variables using one-hot encoding\n",
        "bank_data = pd.get_dummies(bank_data, columns=['job', 'marital', 'education', 'default', 'housing', 'loan', 'contact', 'month', 'poutcome'], drop_first=True)\n"
      ],
      "metadata": {
        "colab": {
          "base_uri": "https://localhost:8080/"
        },
        "id": "zRpKkFprnfRM",
        "outputId": "9be221ea-0f02-4c32-aeaa-f9255fa8cdd0"
      },
      "execution_count": 8,
      "outputs": [
        {
          "output_type": "stream",
          "name": "stdout",
          "text": [
            "Missing Values:\n",
            "age          0\n",
            "job          0\n",
            "marital      0\n",
            "education    0\n",
            "default      0\n",
            "balance      0\n",
            "housing      0\n",
            "loan         0\n",
            "contact      0\n",
            "day          0\n",
            "month        0\n",
            "duration     0\n",
            "campaign     0\n",
            "pdays        0\n",
            "previous     0\n",
            "poutcome     0\n",
            "y            0\n",
            "dtype: int64\n"
          ]
        }
      ]
    },
    {
      "cell_type": "code",
      "source": [
        "# Select features and target variable\n",
        "X = bank_data.drop(['y'], axis=1)\n",
        "y = bank_data['y']\n"
      ],
      "metadata": {
        "id": "Aw6DznDZnfUF"
      },
      "execution_count": 11,
      "outputs": []
    },
    {
      "cell_type": "code",
      "source": [
        "from sklearn.model_selection import train_test_split\n",
        "\n",
        "# Split the dataset into training and testing sets\n",
        "X_train, X_test, y_train, y_test = train_test_split(X, y, test_size=0.2, random_state=42)\n"
      ],
      "metadata": {
        "id": "jFEbHUuMnfW3"
      },
      "execution_count": 12,
      "outputs": []
    },
    {
      "cell_type": "code",
      "source": [
        "from sklearn.model_selection import train_test_split\n",
        "\n",
        "# Split the dataset into training and testing sets\n",
        "X_train, X_test, y_train, y_test = train_test_split(X, y, test_size=0.2, random_state=42)\n"
      ],
      "metadata": {
        "id": "dMW1FTM-nfZ3"
      },
      "execution_count": 13,
      "outputs": []
    },
    {
      "cell_type": "code",
      "source": [
        "from sklearn.preprocessing import StandardScaler\n",
        "from sklearn.linear_model import LogisticRegression\n",
        "\n",
        "# Standardize features\n",
        "scaler = StandardScaler()\n",
        "X_train_scaled = scaler.fit_transform(X_train)\n",
        "X_test_scaled = scaler.transform(X_test)\n",
        "\n",
        "# Train Logistic Regression model\n",
        "model = LogisticRegression(random_state=42)\n",
        "model.fit(X_train_scaled, y_train)\n"
      ],
      "metadata": {
        "colab": {
          "base_uri": "https://localhost:8080/",
          "height": 74
        },
        "id": "uDHvu7monfc-",
        "outputId": "3d75c05c-b689-44b7-fe8c-3d713271e71b"
      },
      "execution_count": 14,
      "outputs": [
        {
          "output_type": "execute_result",
          "data": {
            "text/plain": [
              "LogisticRegression(random_state=42)"
            ],
            "text/html": [
              "<style>#sk-container-id-1 {color: black;background-color: white;}#sk-container-id-1 pre{padding: 0;}#sk-container-id-1 div.sk-toggleable {background-color: white;}#sk-container-id-1 label.sk-toggleable__label {cursor: pointer;display: block;width: 100%;margin-bottom: 0;padding: 0.3em;box-sizing: border-box;text-align: center;}#sk-container-id-1 label.sk-toggleable__label-arrow:before {content: \"▸\";float: left;margin-right: 0.25em;color: #696969;}#sk-container-id-1 label.sk-toggleable__label-arrow:hover:before {color: black;}#sk-container-id-1 div.sk-estimator:hover label.sk-toggleable__label-arrow:before {color: black;}#sk-container-id-1 div.sk-toggleable__content {max-height: 0;max-width: 0;overflow: hidden;text-align: left;background-color: #f0f8ff;}#sk-container-id-1 div.sk-toggleable__content pre {margin: 0.2em;color: black;border-radius: 0.25em;background-color: #f0f8ff;}#sk-container-id-1 input.sk-toggleable__control:checked~div.sk-toggleable__content {max-height: 200px;max-width: 100%;overflow: auto;}#sk-container-id-1 input.sk-toggleable__control:checked~label.sk-toggleable__label-arrow:before {content: \"▾\";}#sk-container-id-1 div.sk-estimator input.sk-toggleable__control:checked~label.sk-toggleable__label {background-color: #d4ebff;}#sk-container-id-1 div.sk-label input.sk-toggleable__control:checked~label.sk-toggleable__label {background-color: #d4ebff;}#sk-container-id-1 input.sk-hidden--visually {border: 0;clip: rect(1px 1px 1px 1px);clip: rect(1px, 1px, 1px, 1px);height: 1px;margin: -1px;overflow: hidden;padding: 0;position: absolute;width: 1px;}#sk-container-id-1 div.sk-estimator {font-family: monospace;background-color: #f0f8ff;border: 1px dotted black;border-radius: 0.25em;box-sizing: border-box;margin-bottom: 0.5em;}#sk-container-id-1 div.sk-estimator:hover {background-color: #d4ebff;}#sk-container-id-1 div.sk-parallel-item::after {content: \"\";width: 100%;border-bottom: 1px solid gray;flex-grow: 1;}#sk-container-id-1 div.sk-label:hover label.sk-toggleable__label {background-color: #d4ebff;}#sk-container-id-1 div.sk-serial::before {content: \"\";position: absolute;border-left: 1px solid gray;box-sizing: border-box;top: 0;bottom: 0;left: 50%;z-index: 0;}#sk-container-id-1 div.sk-serial {display: flex;flex-direction: column;align-items: center;background-color: white;padding-right: 0.2em;padding-left: 0.2em;position: relative;}#sk-container-id-1 div.sk-item {position: relative;z-index: 1;}#sk-container-id-1 div.sk-parallel {display: flex;align-items: stretch;justify-content: center;background-color: white;position: relative;}#sk-container-id-1 div.sk-item::before, #sk-container-id-1 div.sk-parallel-item::before {content: \"\";position: absolute;border-left: 1px solid gray;box-sizing: border-box;top: 0;bottom: 0;left: 50%;z-index: -1;}#sk-container-id-1 div.sk-parallel-item {display: flex;flex-direction: column;z-index: 1;position: relative;background-color: white;}#sk-container-id-1 div.sk-parallel-item:first-child::after {align-self: flex-end;width: 50%;}#sk-container-id-1 div.sk-parallel-item:last-child::after {align-self: flex-start;width: 50%;}#sk-container-id-1 div.sk-parallel-item:only-child::after {width: 0;}#sk-container-id-1 div.sk-dashed-wrapped {border: 1px dashed gray;margin: 0 0.4em 0.5em 0.4em;box-sizing: border-box;padding-bottom: 0.4em;background-color: white;}#sk-container-id-1 div.sk-label label {font-family: monospace;font-weight: bold;display: inline-block;line-height: 1.2em;}#sk-container-id-1 div.sk-label-container {text-align: center;}#sk-container-id-1 div.sk-container {/* jupyter's `normalize.less` sets `[hidden] { display: none; }` but bootstrap.min.css set `[hidden] { display: none !important; }` so we also need the `!important` here to be able to override the default hidden behavior on the sphinx rendered scikit-learn.org. See: https://github.com/scikit-learn/scikit-learn/issues/21755 */display: inline-block !important;position: relative;}#sk-container-id-1 div.sk-text-repr-fallback {display: none;}</style><div id=\"sk-container-id-1\" class=\"sk-top-container\"><div class=\"sk-text-repr-fallback\"><pre>LogisticRegression(random_state=42)</pre><b>In a Jupyter environment, please rerun this cell to show the HTML representation or trust the notebook. <br />On GitHub, the HTML representation is unable to render, please try loading this page with nbviewer.org.</b></div><div class=\"sk-container\" hidden><div class=\"sk-item\"><div class=\"sk-estimator sk-toggleable\"><input class=\"sk-toggleable__control sk-hidden--visually\" id=\"sk-estimator-id-1\" type=\"checkbox\" checked><label for=\"sk-estimator-id-1\" class=\"sk-toggleable__label sk-toggleable__label-arrow\">LogisticRegression</label><div class=\"sk-toggleable__content\"><pre>LogisticRegression(random_state=42)</pre></div></div></div></div></div>"
            ]
          },
          "metadata": {},
          "execution_count": 14
        }
      ]
    },
    {
      "cell_type": "code",
      "source": [
        "from sklearn.metrics import accuracy_score, classification_report, confusion_matrix\n",
        "\n",
        "# Predictions on the test set\n",
        "y_pred = model.predict(X_test_scaled)\n",
        "\n",
        "# Evaluate the model\n",
        "accuracy = accuracy_score(y_test, y_pred)\n",
        "conf_matrix = confusion_matrix(y_test, y_pred)\n",
        "class_report = classification_report(y_test, y_pred)\n",
        "\n",
        "# Print the results\n",
        "print(\"Accuracy:\", accuracy)\n",
        "print(\"Confusion Matrix:\")\n",
        "print(conf_matrix)\n",
        "print(\"Classification Report:\")\n",
        "print(class_report)\n"
      ],
      "metadata": {
        "colab": {
          "base_uri": "https://localhost:8080/"
        },
        "id": "tsOQRuqaopY1",
        "outputId": "1657247c-deda-4903-bfae-58580a1bf43e"
      },
      "execution_count": 15,
      "outputs": [
        {
          "output_type": "stream",
          "name": "stdout",
          "text": [
            "Accuracy: 0.8987061815769103\n",
            "Confusion Matrix:\n",
            "[[7755  197]\n",
            " [ 719  372]]\n",
            "Classification Report:\n",
            "              precision    recall  f1-score   support\n",
            "\n",
            "          no       0.92      0.98      0.94      7952\n",
            "         yes       0.65      0.34      0.45      1091\n",
            "\n",
            "    accuracy                           0.90      9043\n",
            "   macro avg       0.78      0.66      0.70      9043\n",
            "weighted avg       0.88      0.90      0.88      9043\n",
            "\n"
          ]
        }
      ]
    }
  ]
}